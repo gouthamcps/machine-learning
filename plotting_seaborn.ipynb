# -*- coding: utf-8 -*-
"""
Created on Tue May 15 09:22:15 2018

@author: laptop
"""

import pandas as pd
import seaborn as sns
dataset=pd.read_csv('winemag-data-130k-v2.csv',index_col=0)
sns.countplot(dataset['points'])
#The countplot is similar to the bar chart but its different in a way that we donot require to shape the data as required with bar chart using value_counts function
#The countplot aggregates the data iself when supplied the source or the coulmn in the dataset
sns.kdeplot(dataset.query('price<200').price)
#kde stands for kernel density estimate which smooths out the noise
#kdeplot is similar to the line chart but its better in a way that it removes the noise in the data by removing the outliners from the in liners i.e.. suppose many values are 20 and suddenly there is just 1 19 in between. In line chart this 19 will cause the plot to have sudden dip and increase but in a kde plot this 19 is fitered out making the data and the plot noise free
#kdeplot can also be used to plot two variables
sns.kdeplot(dataset[dataset['price']<200].loc[:,['price','points']].dropna().sample(5000))
sns.distplot(dataset['points'],bins=10,kde=False)
#distplot is similar to the histogram
sns.jointplot(x='price',y='points',data=dataset[dataset['price']<100],kind='hex',gridsize=20)
#The jointplot is similar to the scatter and the hex plots but is composite in nature with also a correlation coefficient (pearson constant)
df=dataset[dataset.variety.isin(dataset.variety.value_counts().head(5).index)]
sns.boxplot(x='variety',y='points',data=df)
#The box plot works only for interval data and nominal variables with a large number of possible values
sns.violinplot(x='variety',y='points',data=df)
#The violin plot is similar to the box plot except that the box is replaced with ker density function represention resulting in better interpretation and aesthtic value
df=dataset[dataset['country'].isin(['Spain','France'])]
g=sns.FacetGrid(df,col="country")
g.map(sns.kdeplot,"points")
